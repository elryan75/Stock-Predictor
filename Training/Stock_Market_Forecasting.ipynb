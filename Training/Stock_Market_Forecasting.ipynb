{
  "nbformat": 4,
  "nbformat_minor": 0,
  "metadata": {
    "colab": {
      "name": "Stock Market Forecasting",
      "provenance": [],
      "collapsed_sections": []
    },
    "kernelspec": {
      "display_name": "Python 3",
      "name": "python3"
    }
  },
  "cells": [
    {
      "cell_type": "code",
      "metadata": {
        "id": "SWfcZjh25d_W",
        "colab": {
          "base_uri": "https://localhost:8080/"
        },
        "outputId": "13945bd5-4158-40ab-e84a-9d48ab3a2215"
      },
      "source": [
        "import numpy as np \n",
        "import pandas as pd\n",
        "from matplotlib import pyplot as plt\n",
        "from sklearn.preprocessing import MinMaxScaler\n",
        "from sklearn.metrics import mean_squared_error\n",
        "\n",
        "from keras.models import Sequential\n",
        "from keras.layers import LSTM, Dense\n",
        "\n",
        "!pip install ta\n",
        "import ta\n",
        "\n",
        "pd.options.mode.chained_assignment = None\n"
      ],
      "execution_count": 234,
      "outputs": [
        {
          "output_type": "stream",
          "text": [
            "Requirement already satisfied: ta in /usr/local/lib/python3.6/dist-packages (0.7.0)\n",
            "Requirement already satisfied: pandas in /usr/local/lib/python3.6/dist-packages (from ta) (1.1.4)\n",
            "Requirement already satisfied: numpy in /usr/local/lib/python3.6/dist-packages (from ta) (1.18.5)\n",
            "Requirement already satisfied: pytz>=2017.2 in /usr/local/lib/python3.6/dist-packages (from pandas->ta) (2018.9)\n",
            "Requirement already satisfied: python-dateutil>=2.7.3 in /usr/local/lib/python3.6/dist-packages (from pandas->ta) (2.8.1)\n",
            "Requirement already satisfied: six>=1.5 in /usr/local/lib/python3.6/dist-packages (from python-dateutil>=2.7.3->pandas->ta) (1.15.0)\n"
          ],
          "name": "stdout"
        }
      ]
    },
    {
      "cell_type": "code",
      "metadata": {
        "id": "1CvVPxMuI7eb"
      },
      "source": [
        "def preprocess(company, sc):\n",
        "  #print(company.to_string())\n",
        "  company = sc.fit_transform(company)\n",
        "  company = pd.DataFrame(company)\n",
        "  #df.columns = ['open', 'high', 'low', 'close', 'volume', 'Name']\n",
        "\n",
        "\n",
        "  \n",
        "  company = np.array(company)\n",
        "\n",
        "  #Separate into X and y, in the target y we only want the closing price\n",
        "  X = []\n",
        "  y = []\n",
        "\n",
        "  num_features = company.shape[1]\n",
        "\n",
        "  for i in company:\n",
        "    features = []\n",
        "    for j in range(0,num_features):\n",
        "      features.append(i[j])\n",
        "    X.append(features)\n",
        "    y.append(i[0])\n",
        "\n",
        "  X = np.array(X)\n",
        "  y = np.array(y)\n",
        "\n",
        "\n",
        "\n",
        "  #Split data for training and testing\n",
        "  split = int(len(X)*0.8)\n",
        "\n",
        "  Xtrain = X[:split]\n",
        "  Xtest = X[split : len(X)]\n",
        "  ytrain = y[:split]\n",
        "  ytest = y[split : len(y)]\n",
        "\n",
        "  #print(len(Xtrain))\n",
        "\n",
        "  #Now we shift the y array\n",
        "  X_train = []\n",
        "  X_test = []\n",
        "  y_train = []\n",
        "  y_test = []\n",
        "\n",
        "  #We want to use 14 previous days to predict the next closing price\n",
        "  #So we use Day1, Day2, Day3..., Days14 to predict Day 15\n",
        "  n=14\n",
        "  for i in range(n, len(Xtrain)):\n",
        "    X_train.append(Xtrain[i-n : i, : Xtrain.shape[1]])\n",
        "    y_train.append(ytrain[i])\n",
        "\n",
        "  for i in range(n, len(Xtest)):\n",
        "    X_test.append(Xtest[i-n : i, : Xtest.shape[1]])\n",
        "    y_test.append(ytest[i])\n",
        "\n",
        "\n",
        "  X_train = np.array(X_train)\n",
        "  y_train = np.array(y_train)\n",
        "  X_test = np.array(X_test)\n",
        "  y_test = np.array(y_test)\n",
        "\n",
        "  \n",
        "\n",
        "  #Reshape the arrays to use in the LSTM model\n",
        "  X_train = np.reshape(X_train, (X_train.shape[0], X_train.shape[1], X_train.shape[2]))\n",
        "  X_test = np.reshape(X_test, (X_test.shape[0], X_test.shape[1], X_test.shape[2]))\n",
        "\n",
        "\n",
        "  return (X_train, X_test, y_train, y_test, training_set)\n"
      ],
      "execution_count": 236,
      "outputs": []
    },
    {
      "cell_type": "code",
      "metadata": {
        "id": "7YKIrMltI-7M",
        "colab": {
          "base_uri": "https://localhost:8080/"
        },
        "outputId": "69ad8a35-50e4-4070-c224-ba506bda9194"
      },
      "source": [
        "\n",
        "#Get CSV Dataset into a dataframe\n",
        "df = pd.read_csv(\"https://raw.githubusercontent.com/elryan75/Stock-Predictor/main/Dataset/all_stocks_5yr.csv\")\n",
        "\n",
        "\n",
        "#Remove all rows containing Nan values\n",
        "df = df.dropna()\n",
        "\n",
        "#Drop this company because it doesn't have enough data\n",
        "df.drop(df.loc[df['Name']=='APTV'].index, inplace=True)\n",
        "\n",
        "\n",
        "dataset = df\n",
        "\n",
        "\n",
        "\n",
        "#Only keep closing price and volume columns\n",
        "training_set = df.iloc[:, 1:7]\n",
        "training_set.columns = ['close', 'high', 'low', 'open', 'volume', 'Name']\n",
        "#training_set = training_set.values\n",
        "\n",
        "#print(training_set[:,[0,1,2,3,4]].shape)\n",
        "\n",
        "#Normalization of the data\n",
        "sc = MinMaxScaler()\n",
        "\n",
        "\n",
        "\n",
        "for name, group in training_set.groupby('Name'):\n",
        "   #Add moving average\n",
        "\n",
        "  company = group[['close', 'volume', 'open', 'low', 'high']]\n",
        "  company = company.astype(float)\n",
        "  \n",
        "  #ta.add_volume_ta(company, high='high', low='low', close='close', volume='volume', fillna=True)\n",
        "\n",
        "  ta.add_momentum_ta(company, high='high', low='low', close='close', volume='volume', fillna=True)\n",
        "\n",
        "  columns = ['volume','momentum_stoch', 'momentum_uo','momentum_stoch_signal','momentum_ao', 'momentum_roc', 'momentum_ppo', 'momentum_ppo_signal',  'momentum_ppo_hist', 'momentum_stoch_rsi_d', 'momentum_stoch_rsi_k', 'momentum_stoch_rsi', 'momentum_kama', 'momentum_tsi', 'momentum_wr']\n",
        "\n",
        "  company = company.drop(columns, axis=1)\n",
        "  preprocessed = preprocess(company,sc)\n",
        "  if(preprocessed[0].shape[0] == 993):\n",
        "    companies_preprocessed.append(preprocessed)\n",
        "\n",
        "\n",
        "  \n",
        "\n",
        "print(len(companies_preprocessed))\n",
        "\n",
        "\n",
        "\n"
      ],
      "execution_count": 238,
      "outputs": [
        {
          "output_type": "stream",
          "text": [
            "1197\n"
          ],
          "name": "stdout"
        }
      ]
    },
    {
      "cell_type": "code",
      "metadata": {
        "id": "5cifqnoN281t",
        "colab": {
          "base_uri": "https://localhost:8080/"
        },
        "outputId": "4a7db05c-543a-4ee0-f1de-5d23b1fcadb8"
      },
      "source": [
        "#Creation of the LSTM model\n",
        "\n",
        "model = Sequential()\n",
        "lstm = LSTM(4, input_shape=(companies_preprocessed[0][0].shape[1], companies_preprocessed[0][0].shape[2]))\n",
        "model.add(lstm)\n",
        "\n",
        "model.add(Dense(4))\n",
        "model.add(Dense(1))\n",
        "\n",
        "\n",
        "model.compile(loss=\"mean_squared_error\", optimizer = \"adam\")\n",
        "\n",
        "count = 0\n",
        "\n",
        "for i in companies_preprocessed:\n",
        "  if count>460:\n",
        "    break\n",
        "  X_train = i[0]\n",
        "  y_train = i[2]\n",
        "  model.fit(X_train, y_train, epochs=4, verbose=0)\n",
        "  \n",
        "  count += 1\n",
        "\n",
        "\n",
        "model.summary()\n",
        "\n"
      ],
      "execution_count": 239,
      "outputs": [
        {
          "output_type": "stream",
          "text": [
            "Model: \"sequential_32\"\n",
            "_________________________________________________________________\n",
            "Layer (type)                 Output Shape              Param #   \n",
            "=================================================================\n",
            "lstm_31 (LSTM)               (None, 4)                 160       \n",
            "_________________________________________________________________\n",
            "dense_63 (Dense)             (None, 4)                 20        \n",
            "_________________________________________________________________\n",
            "dense_64 (Dense)             (None, 1)                 5         \n",
            "=================================================================\n",
            "Total params: 185\n",
            "Trainable params: 185\n",
            "Non-trainable params: 0\n",
            "_________________________________________________________________\n"
          ],
          "name": "stdout"
        }
      ]
    },
    {
      "cell_type": "code",
      "metadata": {
        "id": "2g-qIdxXbhZB"
      },
      "source": [
        "def company_accuracy(df, ticker, sc):\n",
        "  \n",
        "  company = df.loc[df['Name'] == ticker]\n",
        "  company = company[['close', 'volume', 'open', 'low', 'high']]\n",
        "  company = company.astype(float)\n",
        "  \n",
        "  #ta.add_volume_ta(company, high='high', low='low', close='close', volume='volume', fillna=True)\n",
        "\n",
        "  ta.add_momentum_ta(company, high='high', low='low', close='close', volume='volume', fillna=True)\n",
        "\n",
        "  columns = ['volume','momentum_stoch', 'momentum_uo','momentum_stoch_signal','momentum_ao', 'momentum_roc', 'momentum_ppo', 'momentum_ppo_signal',  'momentum_ppo_hist', 'momentum_stoch_rsi_d', 'momentum_stoch_rsi_k', 'momentum_stoch_rsi', 'momentum_kama', 'momentum_tsi', 'momentum_wr']\n",
        "\n",
        "  company = company.drop(columns, axis=1)\n",
        "  company = preprocess(company, sc)\n",
        "\n",
        "  X_train = company[0]\n",
        "  X_test = company[1]\n",
        "  y_train = company[2]\n",
        "  y_test = company[3]\n",
        "  training_set = company[4]\n",
        "\n",
        "  #Predict on train and test\n",
        "  trainPredict = model.predict(X_train)\n",
        "  testPredict = model.predict(X_test)\n",
        "\n",
        "  #The data is still normalized, in order to get the real values, we need to reshape the array to use the inverse_transform() function\n",
        "  trainPredict = np.c_[trainPredict, np.zeros((trainPredict.shape[0],4))]\n",
        "  testPredict = np.c_[testPredict, np.zeros((testPredict.shape[0],4))]\n",
        "  trainPredict = sc.inverse_transform(trainPredict)\n",
        "\n",
        "  trainPredict = trainPredict[:,0]\n",
        "  testPredict = sc.inverse_transform(testPredict)\n",
        "  testPredict = testPredict[:,0]\n",
        "\n",
        "  \n",
        "  #Calculate mean squared error \n",
        "  \n",
        "  print(\"Mean Squared Error\")\n",
        "  train_score = mean_squared_error([x[0][0] for x in X_train], trainPredict, squared=False)\n",
        "  print(\"Training Score: \" + str(train_score))\n",
        "\n",
        "  test_score = mean_squared_error([x[0][0] for x in X_test], testPredict, squared=False)\n",
        "  print(\"Testing Score: \" + str(test_score))\n",
        "  \n",
        "  plt.title(\"Stock price of \" + ticker)\n",
        "  \n",
        "  #Plot the real price of facebook (4 years)\n",
        "  full_prices = np.array(dataset.loc[dataset['Name'] == ticker]['close'])\n",
        "  days = list(range(0, len(full_prices)))\n",
        "  plt.plot(days, full_prices, label = \"Real Price\")\n",
        "\n",
        "  #Plot the predict price on training data\n",
        "\n",
        "\n",
        "  #Plot the predicted price using the testing data\n",
        "  predicted_prices = testPredict\n",
        "  prediced_days = days[len(days)-len(testPredict):len(days)]\n",
        "  plt.plot(prediced_days,testPredict, label = \"Predicted Price\")\n",
        "\n",
        "  plt.xlabel('Day')\n",
        "  plt.ylabel('Stock Price')\n",
        "\n",
        "  plt.legend()\n",
        "  plt.show()\n",
        "\n",
        "  predict = testPredict\n",
        "  movement_predict = []\n",
        "\n",
        "  good = 0\n",
        "  bad = 0\n",
        "\n",
        "  real = full_prices[len(full_prices)-len(testPredict):len(full_prices)]\n",
        "\n",
        "\n",
        "  for i in range(1,len(real)):\n",
        "    if (real[i] - real[i-1] > 0) and (predict[i] - predict[i-1] > 0):\n",
        "      good += 1\n",
        "    elif (real[i] - real[i-1] < 0) and (predict[i] - predict[i-1] < 0):\n",
        "      good +=1\n",
        "    else:\n",
        "      bad += 1\n",
        "\n",
        "  movement_prediction_accuracy = good / (good + bad) * 100\n",
        "  print(\"movement accuracy: \" + str(movement_prediction_accuracy) + \"%\")"
      ],
      "execution_count": 240,
      "outputs": []
    },
    {
      "cell_type": "code",
      "metadata": {
        "id": "g8ser47ncwhR"
      },
      "source": [
        "def companies_accuracy(df, count):\n",
        "  nb = count\n",
        "  predictions = []\n",
        "  mean_squared_training = []\n",
        "  mean_squared_testing = []\n",
        "\n",
        "  for name, group in df.groupby('Name'):\n",
        "\n",
        "    if count < 1:\n",
        "      break\n",
        "\n",
        "    ticker = name\n",
        "    \n",
        "    company = df.loc[df['Name'] == ticker]\n",
        "    company = company[['close', 'volume', 'open', 'low', 'high']]\n",
        "    company = company.astype(float)\n",
        "  \n",
        "    #ta.add_volume_ta(company, high='high', low='low', close='close', volume='volume', fillna=True)\n",
        "\n",
        "    ta.add_momentum_ta(company, high='high', low='low', close='close', volume='volume', fillna=True)\n",
        "\n",
        "    columns = ['volume','momentum_stoch', 'momentum_uo','momentum_stoch_signal','momentum_ao', 'momentum_roc', 'momentum_ppo', 'momentum_ppo_signal',  'momentum_ppo_hist', 'momentum_stoch_rsi_d', 'momentum_stoch_rsi_k', 'momentum_stoch_rsi', 'momentum_kama', 'momentum_tsi', 'momentum_wr']\n",
        "\n",
        "    company = company.drop(columns, axis=1) \n",
        "    company = preprocess(company, sc)\n",
        "\n",
        "    X_train = company[0]\n",
        "\n",
        "    X_test = company[1]\n",
        "\n",
        "    y_train = company[2]\n",
        "    y_test = company[3]\n",
        "\n",
        "    training_set = company[4]\n",
        "\n",
        "    #Predict on train and test\n",
        "    trainPredict = model.predict(X_train)\n",
        "    testPredict = model.predict(X_test)\n",
        "    #The data is still normalized, in order to get the real values, we need to reshape the array to use the inverse_transform() function\n",
        "    trainPredict = np.c_[trainPredict, np.zeros((trainPredict.shape[0],4))]\n",
        "    testPredict = np.c_[testPredict, np.zeros((testPredict.shape[0],4))]\n",
        "    trainPredict = sc.inverse_transform(trainPredict)\n",
        "\n",
        "    trainPredict = trainPredict[:,0]\n",
        "    testPredict = sc.inverse_transform(testPredict)\n",
        "    testPredict = testPredict[:,0]\n",
        "\n",
        "    \n",
        "    full_prices = np.array(dataset.loc[dataset['Name'] == ticker]['close'])\n",
        "    days = list(range(0, len(full_prices)))\n",
        "\n",
        "    train_score = mean_squared_error([x[0][0] for x in X_train], trainPredict, squared=False)\n",
        "    mean_squared_training.append(train_score)\n",
        "\n",
        "\n",
        "    test_score = mean_squared_error([x[0][0] for x in X_test], testPredict, squared=False)\n",
        "    mean_squared_testing.append(test_score)\n",
        "\n",
        "    predicted_prices = testPredict\n",
        "    prediced_days = days[len(days)-len(testPredict):len(days)]\n",
        "\n",
        "    real = full_prices[len(full_prices)-len(testPredict):len(full_prices)]\n",
        "    movement_real = []\n",
        "\n",
        "    predict = testPredict\n",
        "    movement_predict = []\n",
        "\n",
        "    good = 0\n",
        "    bad = 0\n",
        "\n",
        "    for i in range(1,len(real)):\n",
        "      if (real[i] - real[i-1] > 0) and (predict[i] - predict[i-1] > 0):\n",
        "        good += 1\n",
        "      elif (real[i] - real[i-1] < 0) and (predict[i] - predict[i-1] < 0):\n",
        "        good +=1\n",
        "      else:\n",
        "        bad += 1\n",
        "\n",
        "\n",
        "    movement_prediction_accuracy = good / (good + bad) * 100\n",
        "    predictions.append(movement_prediction_accuracy)\n",
        "\n",
        "    count -=1\n",
        "\n",
        "  \n",
        "  print(\"Average mean squared error for training data: \" + str(np.array(mean_squared_training).mean()) )\n",
        "  print(\"Average mean squared error for testing data: \" + str(np.array(mean_squared_testing).mean()) )\n",
        "  print(\"Average movement accuracy for \" + str(nb) + \" companies \" + str(np.array(predictions).mean()) + \"%\")"
      ],
      "execution_count": 241,
      "outputs": []
    },
    {
      "cell_type": "code",
      "metadata": {
        "id": "xyEp1XzwcOaz",
        "colab": {
          "base_uri": "https://localhost:8080/",
          "height": 408
        },
        "outputId": "c9189ae0-c634-4a4c-96a9-d2007313bdad"
      },
      "source": [
        "company_accuracy(df, 'MSFT', sc)\n",
        "companies_accuracy(df, 500)"
      ],
      "execution_count": 242,
      "outputs": [
        {
          "output_type": "stream",
          "text": [
            "Mean Squared Error\n",
            "Training Score: 46.510551944668805\n",
            "Testing Score: 74.56952459688208\n"
          ],
          "name": "stdout"
        },
        {
          "output_type": "display_data",
          "data": {
            "image/png": "[encoded data removed]",
            "text/plain": [
              "<Figure size 432x288 with 1 Axes>"
            ]
          },
          "metadata": {
            "tags": [],
            "needs_background": "light"
          }
        },
        {
          "output_type": "stream",
          "text": [
            "movement accuracy: 57.383966244725734%\n",
            "Average mean squared error for training data: 79.92018182906523\n",
            "Average mean squared error for testing data: 100.89540046925083\n",
            "Average movement accuracy for 500 companies 49.86886056684407%\n"
          ],
          "name": "stdout"
        }
      ]
    },
    {
      "cell_type": "code",
      "metadata": {
        "colab": {
          "base_uri": "https://localhost:8080/"
        },
        "id": "9Pp9-wh0gZL_",
        "outputId": "258a8833-1696-4ea7-a98a-8f4e68e6094c"
      },
      "source": [
        "model.save('/content/new')"
      ],
      "execution_count": null,
      "outputs": [
        {
          "output_type": "stream",
          "text": [
            "INFO:tensorflow:Assets written to: /content/new/assets\n"
          ],
          "name": "stdout"
        }
      ]
    }
  ]
}